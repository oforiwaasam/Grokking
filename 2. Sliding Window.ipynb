{
 "cells": [
  {
   "cell_type": "markdown",
   "id": "74a12014",
   "metadata": {},
   "source": []
  },
  {
   "cell_type": "code",
   "execution_count": null,
   "id": "94b68b8a",
   "metadata": {},
   "outputs": [],
   "source": [
    "# Given an array, find the average of all subarrays of ‘K’ contiguous elements in it."
   ]
  },
  {
   "cell_type": "code",
   "execution_count": null,
   "id": "98872d4a",
   "metadata": {},
   "outputs": [],
   "source": [
    "''' Question:\n",
    "Given an array of positive numbers and a positive number 'k,'\n",
    "find the maximum sum of any contiguous subarray of size 'k'.\n",
    "\n",
    "Example 1:\n",
    "Input: [2, 1, 5, 1, 3, 2], k=3\n",
    "Output: 9\n",
    "Explanation: Subarray with maximum sum: [5, 1, 3].\n",
    "\n",
    "\n",
    "Example 2:\n",
    "Input: [2, 3, 4, 1, 5], k=2\n",
    "Output: 7\n",
    "Explanation: Subarray with maximum sum: [3, 4].\n",
    "'''"
   ]
  },
  {
   "cell_type": "code",
   "execution_count": null,
   "id": "7442bdc2",
   "metadata": {},
   "outputs": [],
   "source": [
    "'''\n",
    "Ask clarifying questions:\n",
    "    - what does contiguous mean?\n",
    "\n",
    "Consider edge cases:\n",
    "    - if k > len(input_list), then it is invalid\n",
    "'''"
   ]
  },
  {
   "cell_type": "code",
   "execution_count": null,
   "id": "e8eecf83",
   "metadata": {},
   "outputs": [],
   "source": []
  },
  {
   "cell_type": "code",
   "execution_count": null,
   "id": "fd333442",
   "metadata": {},
   "outputs": [],
   "source": [
    "def avgSubarray(arr, k):\n",
    "    \n",
    "    for i in range(k\\\n",
    "                  )\n",
    "            "
   ]
  }
 ],
 "metadata": {
  "kernelspec": {
   "display_name": "base",
   "language": "python",
   "name": "python3"
  },
  "language_info": {
   "codemirror_mode": {
    "name": "ipython",
    "version": 3
   },
   "file_extension": ".py",
   "mimetype": "text/x-python",
   "name": "python",
   "nbconvert_exporter": "python",
   "pygments_lexer": "ipython3",
   "version": "3.9.7 (default, Sep 16 2021, 08:50:36) \n[Clang 10.0.0 ]"
  },
  "vscode": {
   "interpreter": {
    "hash": "cd78fef2128015050713e82ca51c6520b11aee7c9ee8df750520bbbc7384cbaa"
   }
  }
 },
 "nbformat": 4,
 "nbformat_minor": 5
}
