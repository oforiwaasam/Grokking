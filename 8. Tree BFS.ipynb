{
 "cells": [
  {
   "attachments": {},
   "cell_type": "markdown",
   "metadata": {},
   "source": [
    "## 7. Level Order Successor (easy)\n",
    "Given a binary tree and a node, find the level order successor of the given node in the tree. The level order successor is the node that appears right after the given node in the level order traversal."
   ]
  },
  {
   "cell_type": "code",
   "execution_count": 71,
   "metadata": {},
   "outputs": [],
   "source": [
    "from collections import deque\n",
    "\n",
    "\n",
    "class TreeNode:\n",
    "    def __init__(self, val) -> None:\n",
    "        self.val = val\n",
    "        self.left, self.right = None, None\n",
    "\n",
    "def find_successor(root, key):\n",
    "\n",
    "    # first thing, think of edge case(s)\n",
    "    if root is None:\n",
    "        return None\n",
    "\n",
    "    queue = deque()\n",
    "    queue.append(root)\n",
    "    found = False\n",
    "    count = 1\n",
    "    # print(key)\n",
    "    while queue:\n",
    "        # print(\"loop count is\", count)\n",
    "        curr_node = queue.popleft()\n",
    "        # print(curr_node.val)\n",
    "        if curr_node.val == key:\n",
    "            print(curr_node.val)\n",
    "            found = True\n",
    "        elif found:\n",
    "            return curr_node\n",
    "            \n",
    "        if curr_node.left:\n",
    "            queue.append(curr_node.left)\n",
    "        if curr_node.right:\n",
    "            queue.append(curr_node.right)\n",
    "        count += 1\n",
    "    # return None\n",
    "\n",
    "def main():\n",
    "\n",
    "    root = TreeNode(1)\n",
    "    root.left = TreeNode(2)\n",
    "    root.right = TreeNode(3)\n",
    "    root.left.left = TreeNode(4)\n",
    "    root.left.right = TreeNode(5)\n",
    "    root.right.left = TreeNode(6)\n",
    "    root.right.right = TreeNode(7)\n",
    "    result = find_successor(root, 1)\n",
    "    if result:\n",
    "        print(\"found successor is\", result.val)\n",
    "    result = find_successor(root, 3)\n",
    "    if result:\n",
    "        print(\"found successor is\", result.val)\n",
    "\n",
    "# yet to test this out\n",
    "\n",
    "# queue -> [2,3]\n",
    "        \n"
   ]
  },
  {
   "cell_type": "code",
   "execution_count": 72,
   "metadata": {},
   "outputs": [
    {
     "name": "stdout",
     "output_type": "stream",
     "text": [
      "1\n",
      "found successor is 2\n",
      "3\n",
      "found successor is 4\n"
     ]
    }
   ],
   "source": [
    "main()"
   ]
  },
  {
   "cell_type": "code",
   "execution_count": 73,
   "metadata": {},
   "outputs": [],
   "source": [
    "from collections import deque\n",
    "\n",
    "\n",
    "class TreeNode:\n",
    "    def __init__(self, val) -> None:\n",
    "        self.val = val\n",
    "        self.left, self.right = None, None\n",
    "\n",
    "def find_successor1(root, key):\n",
    "\n",
    "    # first thing, think of edge case(s)\n",
    "    if root is None:\n",
    "        return None\n",
    "\n",
    "    queue = deque()\n",
    "    queue.append(root)\n",
    "    found = False\n",
    "    \n",
    "    while queue:\n",
    "        level_size = len(queue)\n",
    "        for _ in range(level_size):\n",
    "            curr_node = queue.popleft()\n",
    "            # print(curr_node.val)\n",
    "            if curr_node.val == key:\n",
    "                print(curr_node.val)\n",
    "                found = True\n",
    "            elif found:\n",
    "                return curr_node\n",
    "                \n",
    "            if curr_node.left:\n",
    "                queue.append(curr_node.left)\n",
    "            if curr_node.right:\n",
    "                queue.append(curr_node.right)\n",
    "       \n",
    "    return None\n",
    "\n",
    "def main():\n",
    "\n",
    "    root = TreeNode(1)\n",
    "    root.left = TreeNode(2)\n",
    "    root.right = TreeNode(3)\n",
    "    root.left.left = TreeNode(4)\n",
    "    root.left.right = TreeNode(5)\n",
    "    root.right.left = TreeNode(6)\n",
    "    root.right.right = TreeNode(7)\n",
    "    result = find_successor1(root, 1)\n",
    "    if result:\n",
    "        print(\"found successor is\", result.val)\n",
    "    result = find_successor1(root, 3)\n",
    "    if result:\n",
    "        print(\"found successor is\", result.val)\n"
   ]
  },
  {
   "cell_type": "code",
   "execution_count": 74,
   "metadata": {},
   "outputs": [
    {
     "name": "stdout",
     "output_type": "stream",
     "text": [
      "1\n",
      "found successor is 2\n",
      "3\n",
      "found successor is 4\n"
     ]
    }
   ],
   "source": [
    "main()"
   ]
  },
  {
   "cell_type": "code",
   "execution_count": null,
   "metadata": {},
   "outputs": [],
   "source": []
  }
 ],
 "metadata": {
  "kernelspec": {
   "display_name": "base",
   "language": "python",
   "name": "python3"
  },
  "language_info": {
   "codemirror_mode": {
    "name": "ipython",
    "version": 3
   },
   "file_extension": ".py",
   "mimetype": "text/x-python",
   "name": "python",
   "nbconvert_exporter": "python",
   "pygments_lexer": "ipython3",
   "version": "3.9.7"
  },
  "orig_nbformat": 4,
  "vscode": {
   "interpreter": {
    "hash": "cd78fef2128015050713e82ca51c6520b11aee7c9ee8df750520bbbc7384cbaa"
   }
  }
 },
 "nbformat": 4,
 "nbformat_minor": 2
}
