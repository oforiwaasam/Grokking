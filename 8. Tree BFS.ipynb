{
 "cells": [
  {
   "attachments": {},
   "cell_type": "markdown",
   "metadata": {},
   "source": [
    "## 7. Level Order Successor (easy)\n",
    "Given a binary tree and a node, find the level order successor of the given node in the tree. The level order successor is the node that appears right after the given node in the level order traversal."
   ]
  },
  {
   "cell_type": "code",
   "execution_count": 15,
   "metadata": {},
   "outputs": [],
   "source": [
    "from collections import deque\n",
    "\n",
    "\n",
    "class TreeNode:\n",
    "    def __init__(self, val) -> None:\n",
    "        self.val = val\n",
    "        self.left, self.right = None, None\n",
    "\n",
    "def find_successor(root, key):\n",
    "\n",
    "    # first thing, think of edge case(s)\n",
    "    if root is None:\n",
    "        return None\n",
    "\n",
    "    queue = deque()\n",
    "    queue.append(root)\n",
    "\n",
    "    while queue:\n",
    "        print(queue)\n",
    "        curr_node = queue.popleft()\n",
    "        if curr_node == key:\n",
    "            if curr_node.left:\n",
    "                queue.append(curr_node.left)\n",
    "            if root.right:\n",
    "                queue.append(curr_node.right)\n",
    "            return queue.popleft()\n",
    "        else:\n",
    "            if curr_node.left:\n",
    "                queue.append(curr_node.left)\n",
    "            if curr_node.right:\n",
    "                queue.append(curr_node.right)\n",
    "        \n",
    "    return None\n",
    "\n",
    "def main():\n",
    "\n",
    "    root = TreeNode(12)\n",
    "    root.left = TreeNode(7)\n",
    "    root.right = TreeNode(1)\n",
    "    root.left.left = TreeNode(9)\n",
    "    root.right.left = TreeNode(10)\n",
    "    root.right.right = TreeNode(5)\n",
    "    result = find_successor(root, 12)\n",
    "    if result:\n",
    "        print(result.val)\n",
    "    result = find_successor(root, 9)\n",
    "    if result:\n",
    "        print(result.val)\n",
    "\n",
    "# yet to test this out\n",
    "\n",
    "# queue -> [2,3]\n",
    "        \n"
   ]
  },
  {
   "cell_type": "code",
   "execution_count": 16,
   "metadata": {},
   "outputs": [
    {
     "name": "stdout",
     "output_type": "stream",
     "text": [
      "deque([<__main__.TreeNode object at 0x7f9eb878ed60>])\n",
      "deque([<__main__.TreeNode object at 0x7f9eb878e1f0>, <__main__.TreeNode object at 0x7f9eb878e6a0>])\n",
      "deque([<__main__.TreeNode object at 0x7f9eb878e6a0>, <__main__.TreeNode object at 0x7f9eb878ee20>])\n",
      "deque([<__main__.TreeNode object at 0x7f9eb878ee20>, <__main__.TreeNode object at 0x7f9eb878e8b0>, <__main__.TreeNode object at 0x7f9eb878eac0>])\n",
      "deque([<__main__.TreeNode object at 0x7f9eb878e8b0>, <__main__.TreeNode object at 0x7f9eb878eac0>])\n",
      "deque([<__main__.TreeNode object at 0x7f9eb878eac0>])\n",
      "deque([<__main__.TreeNode object at 0x7f9eb878ed60>])\n",
      "deque([<__main__.TreeNode object at 0x7f9eb878e1f0>, <__main__.TreeNode object at 0x7f9eb878e6a0>])\n",
      "deque([<__main__.TreeNode object at 0x7f9eb878e6a0>, <__main__.TreeNode object at 0x7f9eb878ee20>])\n",
      "deque([<__main__.TreeNode object at 0x7f9eb878ee20>, <__main__.TreeNode object at 0x7f9eb878e8b0>, <__main__.TreeNode object at 0x7f9eb878eac0>])\n",
      "deque([<__main__.TreeNode object at 0x7f9eb878e8b0>, <__main__.TreeNode object at 0x7f9eb878eac0>])\n",
      "deque([<__main__.TreeNode object at 0x7f9eb878eac0>])\n",
      "None\n"
     ]
    }
   ],
   "source": [
    "print(main())"
   ]
  },
  {
   "cell_type": "code",
   "execution_count": null,
   "metadata": {},
   "outputs": [],
   "source": []
  }
 ],
 "metadata": {
  "kernelspec": {
   "display_name": "base",
   "language": "python",
   "name": "python3"
  },
  "language_info": {
   "codemirror_mode": {
    "name": "ipython",
    "version": 3
   },
   "file_extension": ".py",
   "mimetype": "text/x-python",
   "name": "python",
   "nbconvert_exporter": "python",
   "pygments_lexer": "ipython3",
   "version": "3.9.7"
  },
  "orig_nbformat": 4,
  "vscode": {
   "interpreter": {
    "hash": "cd78fef2128015050713e82ca51c6520b11aee7c9ee8df750520bbbc7384cbaa"
   }
  }
 },
 "nbformat": 4,
 "nbformat_minor": 2
}
