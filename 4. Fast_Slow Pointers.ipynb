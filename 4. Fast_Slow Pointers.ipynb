{
 "cells": [
  {
   "attachments": {},
   "cell_type": "markdown",
   "metadata": {},
   "source": [
    "# 1. LinkedList Cycle (Leetcode 141) - easy\n",
    "Given the head of a Singly LinkedList, write a function to determine if the LinkedList has a cycle in it or not."
   ]
  },
  {
   "cell_type": "code",
   "execution_count": 1,
   "metadata": {},
   "outputs": [],
   "source": [
    "def has_cycle(head):\n",
    "\n",
    "    slow, fast = head, head\n",
    "\n",
    "    while fast is not None and fast.next is not None:\n",
    "\n",
    "        slow = slow.next\n",
    "        fast = fast.next.next\n",
    "\n",
    "        if slow == fast:\n",
    "            return True\n",
    "\n",
    "    return False"
   ]
  },
  {
   "attachments": {},
   "cell_type": "markdown",
   "metadata": {},
   "source": [
    "# 2. Middle of the Linked List (Leetcode 876) - easy\n",
    "Given the head of a Singly LinkedList, write a method to return the middle node of the LinkedList. If the total number of nodes in the LinkedList is even, return the second middle node.\n",
    "\n",
    "### Concept:\n",
    "- when the fast pointer reaches the end of the LinkedList, the slow pointer will be pointing at the middle node.\n",
    "\n"
   ]
  },
  {
   "cell_type": "code",
   "execution_count": 2,
   "metadata": {},
   "outputs": [],
   "source": [
    "def find_middle_of_linked_list(head):\n",
    "\n",
    "    slow, fast = head, head\n",
    "\n",
    "    while fast is not None and fast.next is not None:\n",
    "\n",
    "        slow = slow.next\n",
    "        fast = fast.next.next\n",
    "\n",
    "    return slow"
   ]
  },
  {
   "cell_type": "code",
   "execution_count": null,
   "metadata": {},
   "outputs": [],
   "source": []
  }
 ],
 "metadata": {
  "kernelspec": {
   "display_name": "base",
   "language": "python",
   "name": "python3"
  },
  "language_info": {
   "codemirror_mode": {
    "name": "ipython",
    "version": 3
   },
   "file_extension": ".py",
   "mimetype": "text/x-python",
   "name": "python",
   "nbconvert_exporter": "python",
   "pygments_lexer": "ipython3",
   "version": "3.9.7 (default, Sep 16 2021, 08:50:36) \n[Clang 10.0.0 ]"
  },
  "orig_nbformat": 4,
  "vscode": {
   "interpreter": {
    "hash": "cd78fef2128015050713e82ca51c6520b11aee7c9ee8df750520bbbc7384cbaa"
   }
  }
 },
 "nbformat": 4,
 "nbformat_minor": 2
}
